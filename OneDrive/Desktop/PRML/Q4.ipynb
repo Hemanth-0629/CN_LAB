{
 "cells": [
  {
   "cell_type": "code",
   "execution_count": null,
   "id": "12d437f9",
   "metadata": {},
   "outputs": [],
   "source": [
    "import numpy as np\n",
    "import pandas as pd\n",
    "import matplotlib.pyplot as plt"
   ]
  },
  {
   "cell_type": "code",
   "execution_count": null,
   "id": "27a3a502",
   "metadata": {},
   "outputs": [],
   "source": [
    "df = pd.read_csv('iris.csv')\n",
    "df"
   ]
  },
  {
   "cell_type": "code",
   "execution_count": null,
   "id": "1dc93918",
   "metadata": {},
   "outputs": [],
   "source": [
    "d = {'Petal Length':df['PetalLengthCm'], 'Sepal Width':df['SepalWidthCm'], 'Species':df['Species']}\n",
    "new_df = pd.DataFrame(data = d)\n",
    "new_df"
   ]
  },
  {
   "cell_type": "code",
   "execution_count": null,
   "id": "9824b971",
   "metadata": {},
   "outputs": [],
   "source": [
    "from sklearn.preprocessing import LabelEncoder\n",
    "le = LabelEncoder()\n",
    "new_df['Species'] = le.fit_transform(new_df['Species'])\n",
    "new_df"
   ]
  },
  {
   "cell_type": "code",
   "execution_count": null,
   "id": "1cdb9778",
   "metadata": {},
   "outputs": [],
   "source": [
    "X = new_df.drop('Species', axis = 1).to_numpy()\n",
    "y = np.array(new_df['Species'])"
   ]
  },
  {
   "cell_type": "code",
   "execution_count": null,
   "id": "1ad01f92",
   "metadata": {
    "scrolled": true
   },
   "outputs": [],
   "source": [
    "# Preprocess the data\n",
    "X = X[y != 0]\n",
    "y = y[y != 0]  # Exclude Setosa\n",
    "\n",
    "# Initialize weights and bias for each class\n",
    "n_classes = 3  # Three classes (Setosa, Versicolor, Virginica)\n",
    "n_features = X.shape[1]\n",
    "w = np.zeros((n_classes, n_features))\n",
    "b = np.zeros(n_classes)\n",
    "learning_rate = 0.01\n",
    "epochs = 100\n",
    "\n",
    "# Multi-class perceptron training\n",
    "for epoch in range(epochs):\n",
    "    for xi, target in zip(X, y):\n",
    "        for c in range(n_classes):\n",
    "            update = learning_rate * (int(target == c) - np.dot(xi, w[c]) - b[c])\n",
    "            w[c] += update * xi\n",
    "            b[c] += update\n",
    "\n",
    "# Plot the decision boundaries\n",
    "plt.scatter(X[y == 1][:, 0], X[y == 1][:, 1], label=\"Versicolor\")\n",
    "plt.scatter(X[y == 2][:, 0], X[y == 2][:, 1], label=\"Virginica\")\n",
    "plt.scatter(X[y == 0][:, 0], X[y == 0][:, 1], label=\"Setosa\")\n",
    "plt.xlabel(\"Sepal Width\")\n",
    "plt.ylabel(\"Petal Length\")\n",
    "\n",
    "x_min, x_max = X[:, 0].min() - 1, X[:, 0].max() + 1\n",
    "y_min, y_max = X[:, 1].min() - 1, X[:, 1].max() + 1\n",
    "xx, yy = np.meshgrid(np.arange(x_min, x_max, 0.01), np.arange(y_min, y_max, 0.01))\n",
    "\n",
    "for c in range(n_classes):\n",
    "    Z = np.dot(np.c_[xx.ravel(), yy.ravel()], w[c]) + b[c]\n",
    "    Z = Z.reshape(xx.shape)\n",
    "    plt.contourf(xx, yy, Z, alpha=0.3)\n",
    "\n",
    "plt.legend()\n",
    "plt.title(\"Multi-Class Perceptron Decision Boundaries\")\n",
    "plt.show()"
   ]
  },
  {
   "cell_type": "code",
   "execution_count": null,
   "id": "596dc5ce",
   "metadata": {},
   "outputs": [],
   "source": [
    "X = new_df.drop('Species', axis = 1).to_numpy()\n",
    "y = np.array(new_df['Species'])"
   ]
  },
  {
   "cell_type": "code",
   "execution_count": null,
   "id": "edbb00f2",
   "metadata": {},
   "outputs": [],
   "source": [
    "# Step 3: Preprocess the data\n",
    "# Assign labels 0 and 1 for the first two classes (setosa and versicolor)\n",
    "X = X[y != 2]\n",
    "y = y[y != 2]\n",
    "y[y == 0] = -1  # Convert labels to -1 and 1\n",
    "\n",
    "# Step 4: Initialize SVM parameters\n",
    "weights = np.zeros(X.shape[1])\n",
    "learning_rate = 0.01\n",
    "epochs = 1000\n",
    "\n",
    "# Step 5: Train the SVM model\n",
    "for epoch in range(epochs):\n",
    "    for i, x in enumerate(X):\n",
    "        if y[i] * np.dot(x, weights) <= 1:\n",
    "            weights = weights + learning_rate * (y[i] * x - 2 * weights)\n",
    "\n",
    "# Step 6: Plot the decision boundary\n",
    "plt.figure(figsize=(8, 6))\n",
    "plt.scatter(X[:, 0], X[:, 1], c=y, cmap=plt.cm.Paired, marker='o', edgecolors='k')\n",
    "\n",
    "ax = plt.gca()\n",
    "xlim = ax.get_xlim()\n",
    "ylim = ax.get_ylim()\n",
    "\n",
    "xx, yy = np.meshgrid(np.linspace(xlim[0], xlim[1], 50),\n",
    "                     np.linspace(ylim[0], ylim[1], 50))\n",
    "Z = np.dot(np.c_[xx.ravel(), yy.ravel()], weights)\n",
    "Z = Z.reshape(xx.shape)\n",
    "\n",
    "plt.contour(xx, yy, Z, colors='k', levels=[-1, 0, 1], linestyles=['--', '-', '--'])\n",
    "plt.title('SVM Decision Boundary')\n",
    "plt.xlabel('Petal Length')\n",
    "plt.ylabel('Sepal Width')\n",
    "\n",
    "plt.show()"
   ]
  }
 ],
 "metadata": {
  "kernelspec": {
   "display_name": "Python 3 (ipykernel)",
   "language": "python",
   "name": "python3"
  },
  "language_info": {
   "codemirror_mode": {
    "name": "ipython",
    "version": 3
   },
   "file_extension": ".py",
   "mimetype": "text/x-python",
   "name": "python",
   "nbconvert_exporter": "python",
   "pygments_lexer": "ipython3",
   "version": "3.9.12"
  }
 },
 "nbformat": 4,
 "nbformat_minor": 5
}
