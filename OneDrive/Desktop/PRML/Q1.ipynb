{
 "cells": [
  {
   "cell_type": "code",
   "execution_count": null,
   "id": "a81e6877",
   "metadata": {},
   "outputs": [],
   "source": [
    "import numpy as np\n",
    "import pandas as pd\n",
    "import matplotlib.pyplot as plt"
   ]
  },
  {
   "cell_type": "markdown",
   "id": "a7c6efbe",
   "metadata": {},
   "source": [
    "### AND Gate as a DataFrame"
   ]
  },
  {
   "cell_type": "code",
   "execution_count": null,
   "id": "a5facdd6",
   "metadata": {},
   "outputs": [],
   "source": [
    "d = {'X1':[0, 0, 1, 1], 'X2':[0, 1, 0, 1], 'Output':[0, 0, 0, 1]}\n",
    "df = pd.DataFrame(data = d)\n",
    "df"
   ]
  },
  {
   "cell_type": "code",
   "execution_count": null,
   "id": "36d0ad3c",
   "metadata": {},
   "outputs": [],
   "source": [
    "X = df.drop('Output', axis = 1).to_numpy()\n",
    "y = np.array(df['Output'])"
   ]
  },
  {
   "cell_type": "markdown",
   "id": "d0d6f8c7",
   "metadata": {},
   "source": [
    "### This is using inbuilt functions"
   ]
  },
  {
   "cell_type": "code",
   "execution_count": null,
   "id": "c9687008",
   "metadata": {},
   "outputs": [],
   "source": [
    "from sklearn.linear_model import Perceptron\n",
    "from sklearn.svm import SVC\n",
    "\n",
    "# Train a Perceptron\n",
    "perceptron = Perceptron(max_iter=200, tol=None)\n",
    "perceptron.fit(X, y)\n",
    "\n",
    "# Train an SVM\n",
    "svm = SVC(kernel='linear')\n",
    "svm.fit(X, y)\n",
    "\n",
    "# Plot the data points\n",
    "plt.scatter(X[:, 0], X[:, 1], c=y)\n",
    "\n",
    "# Plot the decision boundary for the Perceptron\n",
    "ax = plt.gca()\n",
    "xlim = ax.get_xlim()\n",
    "ylim = ax.get_ylim()\n",
    "\n",
    "xx, yy = np.meshgrid(np.linspace(xlim[0], xlim[1], 50), np.linspace(ylim[0], ylim[1], 50))\n",
    "Z = perceptron.decision_function(np.c_[xx.ravel(), yy.ravel()])\n",
    "Z = Z.reshape(xx.shape)\n",
    "plt.contour(xx, yy, Z, colors='k', levels=[0], linestyles=['-'])\n",
    "\n",
    "plt.title('Perceptron Decision Boundary')\n",
    "plt.show()\n",
    "\n",
    "# Plot the decision boundary for the SVM\n",
    "plt.scatter(X[:, 0], X[:, 1], c=y)\n",
    "ax = plt.gca()\n",
    "xlim = ax.get_xlim()\n",
    "ylim = ax.get_ylim()\n",
    "\n",
    "xx, yy = np.meshgrid(np.linspace(xlim[0], xlim[1], 50), np.linspace(ylim[0], ylim[1], 50))\n",
    "Z = svm.decision_function(np.c_[xx.ravel(), yy.ravel()])\n",
    "Z = Z.reshape(xx.shape)\n",
    "plt.contour(xx, yy, Z, colors='k', levels=[0], linestyles=['-'])\n",
    "\n",
    "plt.title('SVM Decision Boundary')\n",
    "plt.show()"
   ]
  },
  {
   "cell_type": "markdown",
   "id": "35d5f4cb",
   "metadata": {},
   "source": [
    "### Perceptron without inbuilt"
   ]
  },
  {
   "cell_type": "code",
   "execution_count": null,
   "id": "233dfea6",
   "metadata": {},
   "outputs": [],
   "source": [
    "# Training data\n",
    "X = df.drop('Output', axis = 1).to_numpy()\n",
    "y = np.array(df['Output'])\n",
    "\n",
    "# Initialize weights, bias and learning rate\n",
    "w = np.array([0.0, 0.0])\n",
    "bias = 0.0\n",
    "alpha = 0.1\n",
    "\n",
    "# Define the perceptron function\n",
    "def perceptron(x):\n",
    "    return np.dot(x, w) + bias\n",
    "\n",
    "# Training loop\n",
    "for epoch in range(100):\n",
    "    misclassified = 0\n",
    "    for i in range(len(X)):\n",
    "        prediction = perceptron(X[i])\n",
    "        error = y[i] - prediction\n",
    "        if error != 0:\n",
    "            misclassified += 1\n",
    "            w += alpha * error * X[i]\n",
    "            bias += alpha * error\n",
    "\n",
    "        # Plot decision boundary\n",
    "        plt.figure()\n",
    "        plt.scatter(X[:, 0], X[:, 1], c=y)\n",
    "        x_boundary = np.linspace(-0.2, 1.2, 100)\n",
    "        y_boundary = (-w[0] * x_boundary - bias) / w[1]\n",
    "        plt.plot(x_boundary, y_boundary, 'r')\n",
    "        plt.title(f'Epoch {epoch + 1}, Misclassified: {misclassified}')\n",
    "        plt.xlim(-0.2, 1.2)\n",
    "        plt.ylim(-0.2, 1.2)\n",
    "        plt.show(block=False)\n",
    "        plt.pause(0.1)\n",
    "        plt.close()\n",
    "\n",
    "    if misclassified == 0:\n",
    "        break\n",
    "\n",
    "plt.show()"
   ]
  },
  {
   "cell_type": "markdown",
   "id": "df34eca0",
   "metadata": {},
   "source": [
    "### SVM without inbuilt"
   ]
  },
  {
   "cell_type": "code",
   "execution_count": null,
   "id": "b09944fb",
   "metadata": {},
   "outputs": [],
   "source": [
    "# Initialize weights and bias\n",
    "w = np.zeros(2)\n",
    "b = 0\n",
    "\n",
    "# Learning rate\n",
    "learning_rate = 1\n",
    "\n",
    "# Training\n",
    "epochs = 100  # Number of training iterations\n",
    "\n",
    "for _ in range(epochs):\n",
    "    for i in range(len(X)):\n",
    "        # Check if the point is misclassified\n",
    "        if y[i] * (np.dot(X[i], w) - b) <= 0:\n",
    "            # Update the weights and bias\n",
    "            w = w + learning_rate * y[i] * X[i]\n",
    "            b = b - learning_rate * y[i]\n",
    "\n",
    "# Plot the data points\n",
    "plt.scatter(X[:, 0], X[:, 1], c=y, cmap=plt.cm.Paired)\n",
    "\n",
    "# Plot the decision boundary\n",
    "x_min, x_max = X[:, 0].min() - 1, X[:, 0].max() + 1\n",
    "y_min, y_max = X[:, 1].min() - 1, X[:, 1].max() + 1\n",
    "\n",
    "xx, yy = np.meshgrid(np.arange(x_min, x_max, 0.01), np.arange(y_min, y_max, 0.01))\n",
    "Z = np.dot(np.c_[xx.ravel(), yy.ravel()], w) - b\n",
    "Z = Z.reshape(xx.shape)\n",
    "plt.contourf(xx, yy, Z, colors='k', levels=[-1, 0, 1], alpha=0.5, linestyles=['--', '-', '--'])\n",
    "\n",
    "plt.show()"
   ]
  }
 ],
 "metadata": {
  "kernelspec": {
   "display_name": "Python 3 (ipykernel)",
   "language": "python",
   "name": "python3"
  },
  "language_info": {
   "codemirror_mode": {
    "name": "ipython",
    "version": 3
   },
   "file_extension": ".py",
   "mimetype": "text/x-python",
   "name": "python",
   "nbconvert_exporter": "python",
   "pygments_lexer": "ipython3",
   "version": "3.11.4"
  }
 },
 "nbformat": 4,
 "nbformat_minor": 5
}
