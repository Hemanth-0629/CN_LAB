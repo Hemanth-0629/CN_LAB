{
 "cells": [
  {
   "cell_type": "code",
   "execution_count": null,
   "id": "4295491e",
   "metadata": {},
   "outputs": [],
   "source": [
    "import numpy as np\n",
    "import pandas as pd\n",
    "import matplotlib.pyplot as plt"
   ]
  },
  {
   "cell_type": "code",
   "execution_count": null,
   "id": "aeff4df5",
   "metadata": {},
   "outputs": [],
   "source": [
    "d = {'X1':[2, -1, -1, 0, 1, -1, 1, -1], 'X2':[2, -3, 2, -1, 3, -2, -2, -1], 'W':[1, 0, 1, 0, 1, 0, 0, 1]}\n",
    "df = pd.DataFrame(data = d)\n",
    "df"
   ]
  },
  {
   "cell_type": "code",
   "execution_count": null,
   "id": "a18c3580",
   "metadata": {},
   "outputs": [],
   "source": [
    "X = df.drop('W', axis = 1).to_numpy()\n",
    "y = np.array(df['W'])"
   ]
  },
  {
   "cell_type": "code",
   "execution_count": null,
   "id": "0542be4b",
   "metadata": {},
   "outputs": [],
   "source": [
    "# Initialize weights, bias, and learning rates\n",
    "learning_rates = [0.01, 0.5]\n",
    "converged_iterations = []\n",
    "\n",
    "for alpha in learning_rates:\n",
    "    w = np.zeros(X.shape[1])  # Initialize weights\n",
    "    b = 0  # Initialize bias\n",
    "    converged = False\n",
    "    iters = 0\n",
    "\n",
    "    while not converged:\n",
    "        converged = True\n",
    "        for i in range(len(X)):\n",
    "            prediction = np.dot(X[i], w) + b\n",
    "            if (prediction >= 0) and (y[i] == 0):\n",
    "                w -= alpha * X[i]\n",
    "                b -= alpha\n",
    "                converged = False\n",
    "            elif (prediction < 0) and (y[i] == 1):\n",
    "                w += alpha * X[i]\n",
    "                b += alpha\n",
    "                converged = False\n",
    "            iters += 1\n",
    "\n",
    "    converged_iterations.append(iters)\n",
    "\n",
    "# Print results\n",
    "for i, alpha in enumerate(learning_rates):\n",
    "    print(f\"Learning Rate = {alpha}, Iterations to Converge = {converged_iterations[i]}\")"
   ]
  },
  {
   "cell_type": "code",
   "execution_count": null,
   "id": "aa20be8d",
   "metadata": {},
   "outputs": [],
   "source": [
    "# Define learning rate and the number of iterations\n",
    "learning_rate = 0.23\n",
    "num_iterations = 100\n",
    "\n",
    "# Initialize weights and bias\n",
    "w = np.zeros(X.shape[1])\n",
    "b = 0\n",
    "\n",
    "# Define the hinge loss function\n",
    "def hinge_loss(w, b, X, y):\n",
    "    loss = 1 - y * (np.dot(X, w) + b)\n",
    "    return max(0, loss)\n",
    "\n",
    "# Training the SVM using stochastic gradient descent\n",
    "for _ in range(num_iterations):\n",
    "    for i in range(len(X)):\n",
    "        if y[i] * (np.dot(X[i], w) + b) >= 1:\n",
    "            w -= learning_rate * (2 * 1/num_iterations * w)\n",
    "        else:\n",
    "            w -= learning_rate * (2 * 1/num_iterations * w - np.dot(X[i], y[i]))\n",
    "            b -= learning_rate * y[i]\n",
    "\n",
    "# Make predictions\n",
    "def predict(X, w, b):\n",
    "    return np.sign(np.dot(X, w) + b)\n",
    "\n",
    "# Test the model on new data\n",
    "new_data = np.array([[2, -3], [-2, 0], [0, 0]])\n",
    "predictions = predict(new_data, w, b)\n",
    "\n",
    "print(\"Predictions:\", predictions)"
   ]
  }
 ],
 "metadata": {
  "kernelspec": {
   "display_name": "Python 3 (ipykernel)",
   "language": "python",
   "name": "python3"
  },
  "language_info": {
   "codemirror_mode": {
    "name": "ipython",
    "version": 3
   },
   "file_extension": ".py",
   "mimetype": "text/x-python",
   "name": "python",
   "nbconvert_exporter": "python",
   "pygments_lexer": "ipython3",
   "version": "3.9.12"
  }
 },
 "nbformat": 4,
 "nbformat_minor": 5
}
