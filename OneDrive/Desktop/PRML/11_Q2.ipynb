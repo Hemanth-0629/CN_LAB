{
 "cells": [
  {
   "cell_type": "code",
   "execution_count": 3,
   "metadata": {},
   "outputs": [],
   "source": [
    "import numpy as np\n",
    "import pandas as pd\n",
    "import seaborn as sns\n",
    "import matplotlib.pyplot as plt"
   ]
  },
  {
   "cell_type": "code",
   "execution_count": 4,
   "metadata": {},
   "outputs": [
    {
     "data": {
      "text/html": [
       "<div>\n",
       "<style scoped>\n",
       "    .dataframe tbody tr th:only-of-type {\n",
       "        vertical-align: middle;\n",
       "    }\n",
       "\n",
       "    .dataframe tbody tr th {\n",
       "        vertical-align: top;\n",
       "    }\n",
       "\n",
       "    .dataframe thead th {\n",
       "        text-align: right;\n",
       "    }\n",
       "</style>\n",
       "<table border=\"1\" class=\"dataframe\">\n",
       "  <thead>\n",
       "    <tr style=\"text-align: right;\">\n",
       "      <th></th>\n",
       "      <th>Hours Studied</th>\n",
       "      <th>Hours Watching TV</th>\n",
       "      <th>Outdoor Activity Time</th>\n",
       "      <th>Hours Listening to Music</th>\n",
       "      <th>Water Consumed</th>\n",
       "      <th>Test Score</th>\n",
       "    </tr>\n",
       "  </thead>\n",
       "  <tbody>\n",
       "    <tr>\n",
       "      <th>0</th>\n",
       "      <td>2</td>\n",
       "      <td>4</td>\n",
       "      <td>2</td>\n",
       "      <td>2</td>\n",
       "      <td>5</td>\n",
       "      <td>65</td>\n",
       "    </tr>\n",
       "    <tr>\n",
       "      <th>1</th>\n",
       "      <td>3</td>\n",
       "      <td>3</td>\n",
       "      <td>4</td>\n",
       "      <td>3</td>\n",
       "      <td>6</td>\n",
       "      <td>70</td>\n",
       "    </tr>\n",
       "    <tr>\n",
       "      <th>2</th>\n",
       "      <td>4</td>\n",
       "      <td>2</td>\n",
       "      <td>6</td>\n",
       "      <td>4</td>\n",
       "      <td>5</td>\n",
       "      <td>75</td>\n",
       "    </tr>\n",
       "    <tr>\n",
       "      <th>3</th>\n",
       "      <td>5</td>\n",
       "      <td>1</td>\n",
       "      <td>8</td>\n",
       "      <td>1</td>\n",
       "      <td>6</td>\n",
       "      <td>80</td>\n",
       "    </tr>\n",
       "    <tr>\n",
       "      <th>4</th>\n",
       "      <td>6</td>\n",
       "      <td>0</td>\n",
       "      <td>10</td>\n",
       "      <td>5</td>\n",
       "      <td>4</td>\n",
       "      <td>85</td>\n",
       "    </tr>\n",
       "    <tr>\n",
       "      <th>5</th>\n",
       "      <td>7</td>\n",
       "      <td>0</td>\n",
       "      <td>12</td>\n",
       "      <td>0</td>\n",
       "      <td>5</td>\n",
       "      <td>90</td>\n",
       "    </tr>\n",
       "  </tbody>\n",
       "</table>\n",
       "</div>"
      ],
      "text/plain": [
       "   Hours Studied  Hours Watching TV  Outdoor Activity Time  \\\n",
       "0              2                  4                      2   \n",
       "1              3                  3                      4   \n",
       "2              4                  2                      6   \n",
       "3              5                  1                      8   \n",
       "4              6                  0                     10   \n",
       "5              7                  0                     12   \n",
       "\n",
       "   Hours Listening to Music  Water Consumed  Test Score  \n",
       "0                         2               5          65  \n",
       "1                         3               6          70  \n",
       "2                         4               5          75  \n",
       "3                         1               6          80  \n",
       "4                         5               4          85  \n",
       "5                         0               5          90  "
      ]
     },
     "execution_count": 4,
     "metadata": {},
     "output_type": "execute_result"
    }
   ],
   "source": [
    "path='q2.csv'\n",
    "rd=pd.read_csv(path)\n",
    "df=pd.DataFrame(rd)\n",
    "df"
   ]
  },
  {
   "cell_type": "code",
   "execution_count": 31,
   "metadata": {},
   "outputs": [],
   "source": [
    "def corre_coff(X,Y):\n",
    "    n = len(X)\n",
    "    mean_X = sum(X) / n\n",
    "    mean_Y = sum(Y) / n\n",
    "    deviations_X = [x - mean_X for x in X]\n",
    "    deviations_Y = [y - mean_Y for y in Y]\n",
    "    sum_of_products = sum([dev_X * dev_Y for dev_X, dev_Y in zip(deviations_X, deviations_Y)])\n",
    "    sum_of_squares_X = sum([dev_X ** 2 for dev_X in deviations_X])\n",
    "    sum_of_squares_Y = sum([dev_Y ** 2 for dev_Y in deviations_Y])\n",
    "    corr = sum_of_products / (np.sqrt(sum_of_squares_X) * np.sqrt(sum_of_squares_Y))\n",
    "    return corr\n",
    "\n",
    "\n",
    "\n"
   ]
  },
  {
   "cell_type": "code",
   "execution_count": 30,
   "metadata": {},
   "outputs": [
    {
     "name": "stdout",
     "output_type": "stream",
     "text": [
      "[1.0, -0.9819805060619656, 1.0, -0.2, -0.35503580124836315]\n"
     ]
    }
   ],
   "source": [
    "y=df['Test Score'].values \n",
    "y=np.array(y)\n",
    "x=df.columns \n",
    "x=list(x)\n",
    "x.remove('Test Score')\n",
    "dis=[]\n",
    "for i in x:\n",
    "    x1=df[i].values \n",
    "    x1=np.array(x1)\n",
    "    d=corre_coff(x1,y)\n",
    "    dis.append(d)\n",
    "print(dis)\n",
    "\n"
   ]
  },
  {
   "cell_type": "code",
   "execution_count": 36,
   "metadata": {},
   "outputs": [
    {
     "name": "stdout",
     "output_type": "stream",
     "text": [
      "Hours Studied and Test score are positively connected\n",
      "correlational coefficient between them is: 1.0\n",
      "\n",
      "\n",
      "Hours Watching TV and Test score are negatively connected\n",
      "correlational coefficient between them is: -0.9819805060619656\n",
      "\n",
      "\n",
      "Outdoor Activity Time and Test score are positively connected\n",
      "correlational coefficient between them is: 1.0\n",
      "\n",
      "\n",
      "Hours Listening to Music and Test score are negatively connected\n",
      "correlational coefficient between them is: -0.2\n",
      "\n",
      "\n",
      "Water Consumed and Test score are negatively connected\n",
      "correlational coefficient between them is: -0.35503580124836315\n",
      "\n",
      "\n"
     ]
    }
   ],
   "source": [
    "labels=['Hours Studied', 'Hours Watching TV', 'Outdoor Activity Time','Hours Listening to Music', 'Water Consumed']\n",
    "for i in range(len(labels)):\n",
    "    if(dis[i]>0):\n",
    "        a=\"{} and Test score are positively connected\"\n",
    "    elif(dis[i]<0):\n",
    "        a=\"{} and Test score are negatively connected\"\n",
    "    print(a.format(labels[i]))  \n",
    "    print(\"correlational coefficient between them is:\",dis[i])\n",
    "    print('\\n')\n",
    "       \n"
   ]
  }
 ],
 "metadata": {
  "kernelspec": {
   "display_name": "Python 3",
   "language": "python",
   "name": "python3"
  },
  "language_info": {
   "codemirror_mode": {
    "name": "ipython",
    "version": 3
   },
   "file_extension": ".py",
   "mimetype": "text/x-python",
   "name": "python",
   "nbconvert_exporter": "python",
   "pygments_lexer": "ipython3",
   "version": "3.11.0"
  },
  "orig_nbformat": 4
 },
 "nbformat": 4,
 "nbformat_minor": 2
}
